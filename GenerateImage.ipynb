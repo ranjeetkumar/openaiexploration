{
 "cells": [
  {
   "cell_type": "code",
   "execution_count": 12,
   "metadata": {},
   "outputs": [
    {
     "data": {
      "text/plain": [
       "True"
      ]
     },
     "execution_count": 12,
     "metadata": {},
     "output_type": "execute_result"
    }
   ],
   "source": [
    "from openai import OpenAI\n",
    "import pandas as pd\n",
    "import requests\n",
    "from datetime import datetime\n",
    "from pprint import pprint\n",
    "import tiktoken\n",
    "from pypdf import PdfReader\n",
    "from IPython.display import Image, Markdown, display\n",
    "import os\n",
    "import matplotlib.image as mpimg\n",
    "from dotenv import load_dotenv\n",
    "load_dotenv()"
   ]
  },
  {
   "cell_type": "code",
   "execution_count": 14,
   "metadata": {},
   "outputs": [],
   "source": [
    "client = OpenAI(api_key=os.environ.get(\"OPENAI_API_KEY\"))"
   ]
  },
  {
   "cell_type": "code",
   "execution_count": null,
   "metadata": {},
   "outputs": [],
   "source": [
    "for i in range(1):\n",
    "    response = client.images.generate(\n",
    "      model=\"dall-e-3\",\n",
    "      prompt=\"technical line drawing of the f-35 5th generation stealth fighter. Show and highlight a single powerful turbo jet engine. Show a large slightly angled view and smaller front and side views\",\n",
    "      size=\"1792x1024\",\n",
    "      quality=\"hd\",\n",
    "      n=1,\n",
    "    )\n",
    "\n",
    "    display(Markdown(response.data[0].revised_prompt))\n",
    "\n",
    "    image_url = response.data[0].url\n",
    "    path='usercode/images'\n",
    "    os.makedirs(path, exist_ok=True) \n",
    "\n",
    "    name = path+'/'+str(datetime.now())\n",
    "    img_data = requests.get(image_url).content\n",
    "\n",
    "    with open(name+'.jpg', 'wb') as handler:\n",
    "        handler.write(img_data)\n",
    "\n",
    "    plt.figure(figsize=(11,9))\n",
    "    img = mpimg.imread(name+'.jpg')\n",
    "\n",
    "    imgplot = plt.imshow(img)\n",
    "    imgplot.axes.get_xaxis().set_visible(False)\n",
    "    imgplot.axes.get_yaxis().set_visible(False)\n",
    "    plt.show()\n",
    "    "
   ]
  }
 ],
 "metadata": {
  "kernelspec": {
   "display_name": ".venv",
   "language": "python",
   "name": "python3"
  },
  "language_info": {
   "codemirror_mode": {
    "name": "ipython",
    "version": 3
   },
   "file_extension": ".py",
   "mimetype": "text/x-python",
   "name": "python",
   "nbconvert_exporter": "python",
   "pygments_lexer": "ipython3",
   "version": "3.9.6"
  }
 },
 "nbformat": 4,
 "nbformat_minor": 2
}
