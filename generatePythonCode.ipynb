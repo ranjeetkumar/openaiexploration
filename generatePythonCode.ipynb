{
 "cells": [
  {
   "cell_type": "code",
   "execution_count": 1,
   "metadata": {},
   "outputs": [
    {
     "name": "stderr",
     "output_type": "stream",
     "text": [
      "/var/folders/2j/3kj7nbvn6yj458rtybc5t_2h0000gn/T/ipykernel_33346/3366415382.py:2: DeprecationWarning: \n",
      "Pyarrow will become a required dependency of pandas in the next major release of pandas (pandas 3.0),\n",
      "(to allow more performant data types, such as the Arrow string type, and better interoperability with other libraries)\n",
      "but was not found to be installed on your system.\n",
      "If this would cause problems for you,\n",
      "please provide us feedback at https://github.com/pandas-dev/pandas/issues/54466\n",
      "        \n",
      "  import pandas as pd\n",
      "/Users/rankum/dev/openaiexploration/.venv/lib/python3.9/site-packages/urllib3/__init__.py:35: NotOpenSSLWarning: urllib3 v2 only supports OpenSSL 1.1.1+, currently the 'ssl' module is compiled with 'LibreSSL 2.8.3'. See: https://github.com/urllib3/urllib3/issues/3020\n",
      "  warnings.warn(\n"
     ]
    },
    {
     "data": {
      "text/plain": [
       "True"
      ]
     },
     "execution_count": 1,
     "metadata": {},
     "output_type": "execute_result"
    }
   ],
   "source": [
    "from openai import OpenAI\n",
    "import pandas as pd\n",
    "import requests\n",
    "from datetime import datetime\n",
    "from pprint import pprint\n",
    "import tiktoken\n",
    "from pypdf import PdfReader\n",
    "from IPython.display import Image, Markdown, display\n",
    "import os\n",
    "import matplotlib.image as mpimg\n",
    "from dotenv import load_dotenv\n",
    "load_dotenv()"
   ]
  },
  {
   "cell_type": "code",
   "execution_count": 2,
   "metadata": {},
   "outputs": [],
   "source": [
    "client = OpenAI(api_key=os.environ.get(\"OPENAI_API_KEY\"))"
   ]
  },
  {
   "cell_type": "code",
   "execution_count": 3,
   "metadata": {},
   "outputs": [],
   "source": [
    "problems = [\n",
    "    \"primality testing\",\n",
    "    \"sum of unique elements\",\n",
    "    \"longest palindrome\",\n",
    "    \"all possible permutations of a string\",\n",
    "]"
   ]
  },
  {
   "cell_type": "code",
   "execution_count": 4,
   "metadata": {},
   "outputs": [
    {
     "name": "stdout",
     "output_type": "stream",
     "text": [
      "PRIMALITY TESTING\n"
     ]
    },
    {
     "data": {
      "text/markdown": [
       "Sure, here's a simple Python code to test if a number is prime:\n",
       "\n",
       "```python\n",
       "def is_prime(n):\n",
       "    if n <= 1:\n",
       "        return False\n",
       "    elif n == 2:\n",
       "        return True\n",
       "    elif n % 2 == 0:\n",
       "        return False\n",
       "    else:\n",
       "        i = 3\n",
       "        while i * i <= n:\n",
       "            if n % i == 0:\n",
       "                return False\n",
       "            i += 2\n",
       "        return True\n",
       "\n",
       "# Test the function\n",
       "number = 17\n",
       "if is_prime(number):\n",
       "    print(f\"{number} is a prime number\")\n",
       "else:\n",
       "    print(f\"{number} is not a prime number\")\n",
       "```\n",
       "\n",
       "This code defines a function `is_prime` that takes a number `n` as input and returns `True` if the number is prime, and `False` otherwise. The function checks for some basic cases (n <= 1, n == 2, and n is even) and then iterates through all odd numbers up to the square root of `n` to check for divisibility. If the number is only divisible by 1 and itself, it returns `True` indicating it is prime, otherwise, it returns `False`."
      ],
      "text/plain": [
       "<IPython.core.display.Markdown object>"
      ]
     },
     "metadata": {},
     "output_type": "display_data"
    },
    {
     "name": "stdout",
     "output_type": "stream",
     "text": [
      "SUM OF UNIQUE ELEMENTS\n"
     ]
    },
    {
     "data": {
      "text/markdown": [
       "You can use the following Python code to find the sum of unique elements in a list:\n",
       "\n",
       "```python\n",
       "def sum_unique_elements(lst):\n",
       "    unique_elements = set(lst)\n",
       "    return sum(unique_elements)\n",
       "\n",
       "# Example usage\n",
       "my_list = [1, 2, 2, 3, 4, 4, 5]\n",
       "result = sum_unique_elements(my_list)\n",
       "print(\"Sum of unique elements:\", result)\n",
       "```\n",
       "\n",
       "In this code, the `set(lst)` is used to create a set of unique elements from the input list `lst`, and then the `sum` function is used to calculate the sum of these unique elements."
      ],
      "text/plain": [
       "<IPython.core.display.Markdown object>"
      ]
     },
     "metadata": {},
     "output_type": "display_data"
    },
    {
     "name": "stdout",
     "output_type": "stream",
     "text": [
      "LONGEST PALINDROME\n"
     ]
    },
    {
     "data": {
      "text/markdown": [
       "Certainly! Here's an example of Python code to find the longest palindrome in a given string:\n",
       "\n",
       "```python\n",
       "def longest_palindrome(s):\n",
       "    def expand_from_center(left, right):\n",
       "        while left >= 0 and right < len(s) and s[left] == s[right]:\n",
       "            left -= 1\n",
       "            right += 1\n",
       "        return s[left + 1:right]\n",
       "    \n",
       "    longest = \"\"\n",
       "    for i in range(len(s)):\n",
       "        odd_palindrome = expand_from_center(i, i)\n",
       "        even_palindrome = expand_from_center(i, i+1)\n",
       "        longest = max(longest, odd_palindrome, even_palindrome, key=len)\n",
       "        \n",
       "    return longest\n",
       "\n",
       "# Example usage\n",
       "input_string = \"babad\"\n",
       "result = longest_palindrome(input_string)\n",
       "print(result)\n",
       "```\n",
       "\n",
       "In this code, we define a function `longest_palindrome` that takes a string `s` as input and returns the longest palindrome found within the input string. The `expand_from_center` function is used to find the longest palindrome by checking for even and odd length palindromes. Finally, we use a loop to iterate through the input string and find the longest palindrome."
      ],
      "text/plain": [
       "<IPython.core.display.Markdown object>"
      ]
     },
     "metadata": {},
     "output_type": "display_data"
    },
    {
     "name": "stdout",
     "output_type": "stream",
     "text": [
      "ALL POSSIBLE PERMUTATIONS OF A STRING\n"
     ]
    },
    {
     "data": {
      "text/markdown": [
       "Sure! You can use the `itertools` module in Python to find all possible permutations of a string. Here's an example of how you can do this:\n",
       "\n",
       "```python\n",
       "import itertools\n",
       "\n",
       "def find_permutations(input_string):\n",
       "    # Convert string to list of characters\n",
       "    chars = list(input_string)\n",
       "    \n",
       "    # Use itertools.permutations to generate all permutations\n",
       "    permutations = [''.join(p) for p in itertools.permutations(chars)]\n",
       "    \n",
       "    return permutations\n",
       "\n",
       "input_string = \"abc\"\n",
       "permutations = find_permutations(input_string)\n",
       "print(permutations)\n",
       "```\n",
       "\n",
       "In this example, the `itertools.permutations` function generates all possible permutations of the characters in the input string, and then we join these permutations back into strings and return the list of permutations."
      ],
      "text/plain": [
       "<IPython.core.display.Markdown object>"
      ]
     },
     "metadata": {},
     "output_type": "display_data"
    }
   ],
   "source": [
    "chat = [{\"role\": \"system\", \"content\": \"You are a computer programmer.\"}]\n",
    "prefix = \"Write Python code for finding the \"\n",
    "for problem in problems:\n",
    "  chat_history = chat.copy()\n",
    "  chat_history.append({\"role\":\"user\", \"content\":prefix+problem})\n",
    "\n",
    "  reply = client.chat.completions.create(\n",
    "      model=\"gpt-3.5-turbo-1106\",\n",
    "      messages=chat_history\n",
    "    )\n",
    "\n",
    "  print(problem.upper())\n",
    "  display(Markdown(reply.choices[0].message.content))"
   ]
  }
 ],
 "metadata": {
  "kernelspec": {
   "display_name": ".venv",
   "language": "python",
   "name": "python3"
  },
  "language_info": {
   "codemirror_mode": {
    "name": "ipython",
    "version": 3
   },
   "file_extension": ".py",
   "mimetype": "text/x-python",
   "name": "python",
   "nbconvert_exporter": "python",
   "pygments_lexer": "ipython3",
   "version": "3.9.6"
  }
 },
 "nbformat": 4,
 "nbformat_minor": 2
}
